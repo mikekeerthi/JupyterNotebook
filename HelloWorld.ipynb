{
 "cells": [
  {
   "cell_type": "code",
   "execution_count": 14,
   "metadata": {},
   "outputs": [
    {
     "name": "stdout",
     "output_type": "stream",
     "text": [
      "Hello World\n",
      "MarruSaami\n"
     ]
    }
   ],
   "source": [
    "print (\"Hello World\")\n",
    "print (\"MarruSaami\")"
   ]
  },
  {
   "cell_type": "code",
   "execution_count": 27,
   "metadata": {},
   "outputs": [
    {
     "name": "stdout",
     "output_type": "stream",
     "text": [
      "12\n",
      "2 2.5 Marru\n",
      "2  is of type  <class 'int'>\n",
      "2.5  is of type  <class 'float'>\n",
      "Marru  is of type  <class 'str'>\n",
      "3 3 3\n",
      "(3+1j)\n",
      "(3+1j)  is of type  <class 'complex'>\n",
      "True\n"
     ]
    }
   ],
   "source": [
    "#2_abc=13 will return SyntaError since identifier can't start with numerical\n",
    "#global=12 will return SyntaError since Keywords can't be used as identifier\n",
    "\n",
    "abc=12\n",
    "print (abc)\n",
    "\n",
    "#Multiple Assignment\n",
    "a,b,c=2,2.5,'Marru'\n",
    "print(a,b,c)\n",
    "\n",
    "#Datatype\n",
    "print(a,\" is of type \",type(a))\n",
    "print(b,\" is of type \",type(b))\n",
    "print(c,\" is of type \",type(c))\n",
    "\n",
    "#Assigning same value\n",
    "a=b=c=3\n",
    "print(a,b,c)\n",
    "\n",
    "#Complex number\n",
    "d=3+1j\n",
    "print(d)\n",
    "print(d,\" is of type \",type(d))\n",
    "\n",
    "#Isinstance Operation to check the class of an bject - Boolean output\n",
    "print(isinstance(3+1j,complex))"
   ]
  },
  {
   "cell_type": "code",
   "execution_count": 16,
   "metadata": {},
   "outputs": [
    {
     "name": "stdout",
     "output_type": "stream",
     "text": [
      "1667525760 1667525760\n",
      "1667525728 1667525760\n",
      "1667525760 1667525728\n"
     ]
    }
   ],
   "source": [
    "#Memory (storage) location is same for the variables with same value\n",
    "x=3;y=3\n",
    "print (id(x),id(y))\n",
    "x=2;y=3\n",
    "print (id(x),id(y))\n",
    "x=3;y=2\n",
    "print (id(x),id(y))"
   ]
  },
  {
   "cell_type": "code",
   "execution_count": 37,
   "metadata": {},
   "outputs": [
    {
     "name": "stdout",
     "output_type": "stream",
     "text": [
      "This is Online AI course\n",
      "24\n",
      "T\n",
      "e\n",
      "e\n",
      "This is Online\n"
     ]
    }
   ],
   "source": [
    "#Length Function\n",
    "s = \"This is Online AI course\"\n",
    "print(s)\n",
    "print(len(s))\n",
    "\n",
    "#String Functions\n",
    "print(s[0])\n",
    "print(s[-1]) #- indicates that function has to run from end of the statement to front of the statement\n",
    "print(s[len(s)-1]) # [len(s)-1] == [-1]\n",
    "\n",
    "#slicing\n",
    "print(s[0:14])\n",
    "\n"
   ]
  },
  {
   "cell_type": "code",
   "execution_count": 43,
   "metadata": {},
   "outputs": [
    {
     "name": "stdout",
     "output_type": "stream",
     "text": [
      "2\n",
      "[2, 2.5, 'Marru']\n",
      "[2, -2, 'Marru']\n",
      "(2, 2.5, 'Marru')\n"
     ]
    }
   ],
   "source": [
    "#Lists and Tuples\n",
    "\n",
    "a=[2,2.5,\"Marru\"]\n",
    "print(a[0])\n",
    "print(a)\n",
    "\n",
    "#Lists are Mutable (Can be altered)\n",
    "a[1]=-2\n",
    "print(a)\n",
    "\n",
    "#Tuples are immutable (can't be altered once they are created)\n",
    "#Notice the difference in brackets\n",
    "\n",
    "t=(2,2.5,\"Marru\")\n",
    "print(t)\n",
    "\n",
    "#t[2]=5 returns TypeError\n"
   ]
  },
  {
   "cell_type": "code",
   "execution_count": null,
   "metadata": {},
   "outputs": [],
   "source": []
  }
 ],
 "metadata": {
  "kernelspec": {
   "display_name": "Python 3",
   "language": "python",
   "name": "python3"
  },
  "language_info": {
   "codemirror_mode": {
    "name": "ipython",
    "version": 3
   },
   "file_extension": ".py",
   "mimetype": "text/x-python",
   "name": "python",
   "nbconvert_exporter": "python",
   "pygments_lexer": "ipython3",
   "version": "3.6.5"
  }
 },
 "nbformat": 4,
 "nbformat_minor": 2
}
